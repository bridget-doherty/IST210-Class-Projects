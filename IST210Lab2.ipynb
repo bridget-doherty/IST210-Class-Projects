{
  "nbformat": 4,
  "nbformat_minor": 0,
  "metadata": {
    "colab": {
      "name": "IST210Lab2.ipynb",
      "provenance": [],
      "authorship_tag": "ABX9TyNpyi+zw52TDxX+vim8bW47",
      "include_colab_link": true
    },
    "kernelspec": {
      "name": "python3",
      "display_name": "Python 3"
    }
  },
  "cells": [
    {
      "cell_type": "markdown",
      "metadata": {
        "id": "view-in-github",
        "colab_type": "text"
      },
      "source": [
        "<a href=\"https://colab.research.google.com/github/bridget-doherty/IST210-Class-Projects/blob/master/IST210Lab2.ipynb\" target=\"_parent\"><img src=\"https://colab.research.google.com/assets/colab-badge.svg\" alt=\"Open In Colab\"/></a>"
      ]
    },
    {
      "cell_type": "markdown",
      "metadata": {
        "id": "29Q7QvBf-at5"
      },
      "source": [
        "![Lab2 - Pet Shop ER Diagram](https://raw.githubusercontent.com/bridget-doherty/IST210-Class-Projects/master/Lab2%20-%20Pet%20Shop%20ER%20Diagram.png)"
      ]
    },
    {
      "cell_type": "markdown",
      "metadata": {
        "id": "mq781ENG-kim"
      },
      "source": [
        "I was able to complete this diagram by completing it little by little with each sentence. First, I created the pet and the enclosure entities and included some attributes for both. I connected them through a foreign key in the pet entity, which was location. I also have the pet entity connected to the food entity because pets are fed food. I connected customer with food, food transaction, and adoption transaction because the customer completes all of these transactions. I have adoption transaction connected to pets because they are the product that is being adopted. Finally, I have food transaction connected to food because that is the product that is going to be sold. In addition, I also added a RewardPoints attribute for customer, adoption transaction, and food transaction, as the points that are earned in the transaction entities will be given to the customer as a part of the loyalty program."
      ]
    }
  ]
}