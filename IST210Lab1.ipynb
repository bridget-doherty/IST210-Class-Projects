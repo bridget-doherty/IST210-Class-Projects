{
  "nbformat": 4,
  "nbformat_minor": 0,
  "metadata": {
    "colab": {
      "name": "IST210Lab1.ipynb",
      "provenance": [],
      "collapsed_sections": [],
      "authorship_tag": "ABX9TyNNVYiJST5wN9sILvh71j34",
      "include_colab_link": true
    },
    "kernelspec": {
      "name": "python3",
      "display_name": "Python 3"
    }
  },
  "cells": [
    {
      "cell_type": "markdown",
      "metadata": {
        "id": "view-in-github",
        "colab_type": "text"
      },
      "source": [
        "<a href=\"https://colab.research.google.com/github/bridget-doherty/IST210-Class-Projects/blob/master/IST210Lab1.ipynb\" target=\"_parent\"><img src=\"https://colab.research.google.com/assets/colab-badge.svg\" alt=\"Open In Colab\"/></a>"
      ]
    },
    {
      "cell_type": "markdown",
      "metadata": {
        "id": "JM9yKopiPhaP",
        "colab_type": "text"
      },
      "source": [
        "### Do you like using Jupyter Notebooks?"
      ]
    },
    {
      "cell_type": "markdown",
      "metadata": {
        "id": "HXZ_jEpUQB9t",
        "colab_type": "text"
      },
      "source": [
        "I enjoy using Jupyter Notebooks and I am looking forward to using them more throughout class. This is something new to me, and I am learning more about it as we go. "
      ]
    },
    {
      "cell_type": "markdown",
      "metadata": {
        "id": "mumvjva9Qo0z",
        "colab_type": "text"
      },
      "source": [
        "### What do you want to learn more about in Jupyter Notebooks?"
      ]
    },
    {
      "cell_type": "markdown",
      "metadata": {
        "id": "VrJc_yj7Qta-",
        "colab_type": "text"
      },
      "source": [
        "I want to learn more about how these notebooks can be used most effectively, and how I could employ it in my studies. I also want to see how to code and design projects using Jupyter Notebooks."
      ]
    },
    {
      "cell_type": "markdown",
      "metadata": {
        "id": "9J6xRIJwTiwP",
        "colab_type": "text"
      },
      "source": [
        "![bridge in New York](https://raw.githubusercontent.com/bridget-doherty/IST210-Class-Projects/master/Images/bridge.jpg)"
      ]
    }
  ]
}